{
 "cells": [
  {
   "cell_type": "markdown",
   "metadata": {},
   "source": [
    "*Author*: Vedran\n",
    "\n",
    "*Original date*: 12 Feb 2020\n",
    "\n",
    "*Last update*: 12 Feb 2020\n",
    "\n",
    "# Sampling from random array\n",
    "\n",
    "### Problem definition\n",
    "A decision tree algorithm has to split each node following this prescription:\n",
    "1. Go through each feature, for each feature split the dataset for each value of the feature\n",
    "2. For each of the above, compute Gini impurity of the parent and the children nodes\n",
    "3. Find the maximum Gini impurity decrease, namely the feature and the threshold for which the Gini impurity decrease is maximized\n",
    "\n",
    "The above algorithm takes a lot of time to complete for continuous variables (for example, in a database with millions of customers, each having hundreds of transactions, there would be possibly hundreds of millions of different values for the transaction amount). Evaluating the above for every single possibility is unnecessary and expensive. \n",
    "\n",
    "### Solution explanation\n",
    "I solve the problem here by writing a code that takes a predetermined number of sample thresholds, respecting the distribution of the data (sampling more heavily around the peaks), and it does so rather quickly.\n",
    "The code sorts the dataset once and then retrieves values at prespecified number of different quantiles.\n",
    "\n",
    "### Solution example\n",
    "Suppose the array is (-1, 0, 5, -5, 1). The algorithm sorts the array to (-5, -1, 0, 1, 5). If it was asked to retrieve 3 points, it would take n-quantiles for n=0, 0.5, 1. In other words it would return min, max and median, or -5, 0, and 5.\n",
    "\n",
    "### Addendum\n",
    "I was not sure whether to sort with numpy or pandas, so there's an addendum comparing numpy and pandas sorting. The results of the test were inconclusive, so I went with the option that was easier to code and read."
   ]
  },
  {
   "cell_type": "code",
   "execution_count": 96,
   "metadata": {},
   "outputs": [],
   "source": [
    "import numpy as np\n",
    "import pandas as pd\n",
    "import seaborn as sns\n",
    "import matplotlib.pyplot as plt\n",
    "import time"
   ]
  },
  {
   "cell_type": "code",
   "execution_count": 20,
   "metadata": {},
   "outputs": [],
   "source": [
    "#generate random sample\n",
    "sample = pd.DataFrame(np.random.randn(100), columns={\"rand_num\"})"
   ]
  },
  {
   "cell_type": "code",
   "execution_count": 26,
   "metadata": {},
   "outputs": [
    {
     "data": {
      "text/plain": [
       "<matplotlib.axes._subplots.AxesSubplot at 0x7f2d295aceb8>"
      ]
     },
     "execution_count": 26,
     "metadata": {},
     "output_type": "execute_result"
    },
    {
     "data": {
      "image/png": "[encoded data removed]",
      "text/plain": [
       "<Figure size 720x360 with 1 Axes>"
      ]
     },
     "metadata": {
      "needs_background": "light"
     },
     "output_type": "display_data"
    }
   ],
   "source": [
    "#visualize distro\n",
    "plt.figure(figsize=(10,5))\n",
    "sns.distplot(sample, kde=False, rug=True)"
   ]
  },
  {
   "cell_type": "code",
   "execution_count": 34,
   "metadata": {},
   "outputs": [
    {
     "data": {
      "text/plain": [
       "88"
      ]
     },
     "execution_count": 34,
     "metadata": {},
     "output_type": "execute_result"
    }
   ],
   "source": [
    "#a threshold will split the data set in points above and below threshold.\n",
    "#for example, if threshold is -1, more than 3/4 of the sample would go in the \"right\" branch of the tree\n",
    "#since i'd like to avoid having splits in which the two branches have very different number of samples, \n",
    "#i'd prefer to sample more around the \"peaks\" of the distribution.\n",
    "sum(sample['rand_num']>-1)"
   ]
  },
  {
   "cell_type": "code",
   "execution_count": 47,
   "metadata": {},
   "outputs": [
    {
     "data": {
      "text/plain": [
       "0.38942226298615035"
      ]
     },
     "execution_count": 47,
     "metadata": {},
     "output_type": "execute_result"
    }
   ],
   "source": [
    "sample.quantile(.532)[0]"
   ]
  },
  {
   "cell_type": "markdown",
   "metadata": {},
   "source": [
    "### Two simple (and similar) algorithms to get quantiles"
   ]
  },
  {
   "cell_type": "markdown",
   "metadata": {},
   "source": [
    "The following is the very simplest routine one can write to solve the problem as described in the header. It uses pandas quantiles function, which makes the solution slower by repeatedly having to sort the array."
   ]
  },
  {
   "cell_type": "code",
   "execution_count": 153,
   "metadata": {},
   "outputs": [],
   "source": [
    "def get_quantiles(array, share_of_values):\n",
    "    '''\n",
    "    Returns quantiles of an array. Parameter share_of_values specifies how many quantiles should be returned.\n",
    "    The output is a list of linearly spaced quantiles between min and max of the distribution.\n",
    "    '''\n",
    "    if share_of_values>0 and share_of_values<=1:\n",
    "        number_of_quantiles = int(len(array)*share_of_values) #number of quantiles that we want to extract\n",
    "        quantiles = np.linspace(0,1, number_of_quantiles) # which quantiles we want to extract\n",
    "        values = []\n",
    "        for i in quantiles:\n",
    "            values.append(array.quantile(i)[0]) #add i-th quantile to the list of quantile values\n",
    "        #return values\n",
    "    else:\n",
    "        print(\"share of values should lie between 0 and 1\")"
   ]
  },
  {
   "cell_type": "code",
   "execution_count": 66,
   "metadata": {},
   "outputs": [
    {
     "data": {
      "text/plain": [
       "<matplotlib.axes._subplots.AxesSubplot at 0x7f2d26b8bc88>"
      ]
     },
     "execution_count": 66,
     "metadata": {},
     "output_type": "execute_result"
    },
    {
     "data": {
      "image/png": "[encoded data removed]",
      "text/plain": [
       "<Figure size 432x288 with 1 Axes>"
      ]
     },
     "metadata": {
      "needs_background": "light"
     },
     "output_type": "display_data"
    }
   ],
   "source": [
    "#by employing the above method we sample more often in vicinity of the distribution \"peak\"\n",
    "sns.distplot(get_quantiles(sample,.1), kde=False, rug=True)"
   ]
  },
  {
   "cell_type": "markdown",
   "metadata": {},
   "source": [
    "The following algorithm is an improvement in that it sorts the array only once, and computes quantiles quickly from there."
   ]
  },
  {
   "cell_type": "code",
   "execution_count": 152,
   "metadata": {},
   "outputs": [],
   "source": [
    "def get_quantiles_quickly(array, share_of_values):\n",
    "    '''\n",
    "    Returns quantiles of an array. Parameter share_of_values specifies how many quantiles should be returned.\n",
    "    The output is a list of linearly spaced quantiles between min and max of the distribution.\n",
    "    '''\n",
    "    if share_of_values>0 and share_of_values<=1:\n",
    "        array_length = len(array)\n",
    "        array_sorted = array.sort_values(by=array.columns[0]) # sort array once\n",
    "        number_of_quantiles = int(len(array)*share_of_values) #number of quantiles that we want to extract\n",
    "        quantiles = np.linspace(0,1, number_of_quantiles) # which quantiles we want to extract\n",
    "        values = []\n",
    "        for i in quantiles[:-1]:\n",
    "            values.append(array_sorted.iloc[int(i*array_length)][0]) #add i-th quantile to the list of quantile values\n",
    "        values.append(array_sorted.iloc[-1][0]) #the last element isn't handled properly by the linspace trick above\n",
    "        #return values\n",
    "    else:\n",
    "        print(\"share of values should lie between 0 and 1\")"
   ]
  },
  {
   "cell_type": "markdown",
   "metadata": {},
   "source": [
    "### Comparison of the algorithms"
   ]
  },
  {
   "cell_type": "code",
   "execution_count": 166,
   "metadata": {},
   "outputs": [],
   "source": [
    "def compare_algos(samples, sample_size):\n",
    "    t1=0 #timer for get_quantiles\n",
    "    t2=0 #timer for get_quantiles_quickly\n",
    "    for i in range(samples):\n",
    "        sample = pd.DataFrame( np.random.randn(sample_size) )\n",
    "        t=time.perf_counter()\n",
    "        get_quantiles(sample, .5)\n",
    "        t1+=time.perf_counter()-t\n",
    "        t=time.perf_counter()\n",
    "        get_quantiles_quickly(sample, .5)\n",
    "        t2+=time.perf_counter()-t\n",
    "    print(f\"get_quantiles finished in {t1:.2f}sec and get_quantiles_quickly in {t2:.2f}sec. \\n The test was run on {samples} sample arrays with {sample_size} elements each.\")        "
   ]
  },
  {
   "cell_type": "code",
   "execution_count": 169,
   "metadata": {},
   "outputs": [
    {
     "name": "stdout",
     "output_type": "stream",
     "text": [
      "get_quantiles finished in 36.16sec and get_quantiles_quickly in 6.13sec. \n",
      " The test was run on 100 sample arrays with 1000 elements each.\n"
     ]
    }
   ],
   "source": [
    "compare_algos(100,1000)"
   ]
  },
  {
   "cell_type": "markdown",
   "metadata": {},
   "source": [
    "### Testing pandas vs numpy for sorting"
   ]
  },
  {
   "cell_type": "code",
   "execution_count": 116,
   "metadata": {},
   "outputs": [],
   "source": [
    "# measuring using process time. use perf_counter for physical time\n",
    "def sort_pandas_vs_numpy(num_arrays, num_elements):\n",
    "    large_sample = np.random.randn(num_arrays,num_elements)\n",
    "    large_sample_df = pd.DataFrame(large_sample)\n",
    "    # time numpy\n",
    "    t = time.process_time()\n",
    "    for i in range(0,num_arrays):\n",
    "        np.sort(large_sample[i,:])\n",
    "    print(f\"numpy took {time.process_time()-t:.2f} seconds to sort {num_arrays} arrays with {num_elements} elements each.\")\n",
    "    # time pandas\n",
    "    t = time.process_time()\n",
    "    for i in range(0,num_arrays):\n",
    "        large_sample_df[i].sort_values()\n",
    "    print(f\"pandas took {time.process_time()-t:.2f} seconds to sort {num_arrays} arrays with {num_elements} elements each.\") "
   ]
  },
  {
   "cell_type": "code",
   "execution_count": 131,
   "metadata": {},
   "outputs": [
    {
     "name": "stdout",
     "output_type": "stream",
     "text": [
      "numpy took 7.21 seconds to sort 5000 arrays with 20000 elements each.\n",
      "pandas took 9.74 seconds to sort 5000 arrays with 20000 elements each.\n"
     ]
    }
   ],
   "source": [
    "# running this multiple times with a couple of different choices for the number of arrays and the number of elements\n",
    "# i've concluded that most of the time numpy is faster, but sometimes pandas is faster. in general they're quite similar\n",
    "# none seemed to become better by increasing the parameters\n",
    "sort_pandas_vs_numpy(5000,20000)"
   ]
  }
 ],
 "metadata": {
  "kernelspec": {
   "display_name": "Python 3",
   "language": "python",
   "name": "python3"
  },
  "language_info": {
   "codemirror_mode": {
    "name": "ipython",
    "version": 3
   },
   "file_extension": ".py",
   "mimetype": "text/x-python",
   "name": "python",
   "nbconvert_exporter": "python",
   "pygments_lexer": "ipython3",
   "version": "3.7.3"
  }
 },
 "nbformat": 4,
 "nbformat_minor": 2
}
